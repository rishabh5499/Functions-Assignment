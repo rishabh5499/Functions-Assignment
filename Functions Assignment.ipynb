{
 "cells": [
  {
   "cell_type": "markdown",
   "id": "3d3bb2f2-cf41-4013-8e5d-9549dd8e61c6",
   "metadata": {},
   "source": [
    "1. What is the difference between a function and a method in Python?\n",
    "   - A function is a block of code that I can call by its name to perform a specific task.\n",
    "   - A method is a function that is associated with an object and is called on an instance of that object."
   ]
  },
  {
   "cell_type": "markdown",
   "id": "a5f88476-34a2-481d-9b4f-4068a9cc36f2",
   "metadata": {},
   "source": [
    "2. Explain the concept of function arguments and parameters in Python.\n",
    "   - Parameters are the names I use in the function definition to define what inputs the function expects.\n",
    "   - Arguments are the actual values I pass to the function when I call it."
   ]
  },
  {
   "cell_type": "markdown",
   "id": "317d6b6f-65a9-4ddb-b0f7-00ef0ee143fd",
   "metadata": {},
   "source": [
    "3. What are the different ways to define and call a function in Python?\n",
    "   - I can define a function using the def keyword, followed by the function name, parentheses, and a colon. I call it by writing the function name followed by parentheses containing any required arguments.\n",
    "   - I can also use lambda functions for small, anonymous functions."
   ]
  },
  {
   "cell_type": "markdown",
   "id": "b7745323-e755-43d7-a0d5-9ca53c0694fd",
   "metadata": {},
   "source": [
    "4. What is the purpose of the return statement in a Python function?\n",
    "   - The return statement is how I send a value back from a function to the part of the code that called it. If I don't include a return statement, the function will implicitly return None."
   ]
  },
  {
   "cell_type": "markdown",
   "id": "b0c45e9f-9545-43b3-92ea-52412ac0de9a",
   "metadata": {},
   "source": [
    "5. What are iterators in Python and how do they differ from iterables?\n",
    "   - An iterable is an object that I can loop over, like a list or a string.\n",
    "   - An iterator is an object with a state that remembers where it is during iteration.\n",
    "   - I can get an iterator from an iterable using the iter() function, and I can move to the next item using the next() function."
   ]
  },
  {
   "cell_type": "markdown",
   "id": "f5653b4e-08a2-4c65-8e37-a6e3ce1ac023",
   "metadata": {},
   "source": [
    "6. Explain the concept of generators in Python and how they are defined.\n",
    "   - A generator is a special type of function that are define using the yield keyword instead of return.\n",
    "   - It produces a sequence of values, but unlike a regular function, it doesn't store the entire sequence in memory.\n",
    "   - It \"yields\" one value at a time and then pauses its execution state until the next value is requested."
   ]
  },
  {
   "cell_type": "markdown",
   "id": "76758982-7d67-4389-971a-8a08e52b1462",
   "metadata": {},
   "source": [
    "7. What are the advantages of using generators over regular functions?\n",
    "   - Generators are more memory-efficient because they produce items one by one, rather than all at once.\n",
    "   - This is especially useful for working with large datasets where storing everything in memory would be impractical."
   ]
  },
  {
   "cell_type": "markdown",
   "id": "cd2b4596-b807-4b6f-a69c-50319b98dacb",
   "metadata": {},
   "source": [
    "8. What is a lambda function in Python and when is it typically used?\n",
    "   - A lambda function is a small, anonymous function that I define with the lambda keyword.\n",
    "   - It is typically used for short, single-expression functions where we don't need to formally define a function using def, such as when we need a function as an argument to a higher-order function like map(), filter(), or sort()."
   ]
  },
  {
   "cell_type": "markdown",
   "id": "69c67f65-f0da-4bdf-93c1-d04c3b903c1c",
   "metadata": {},
   "source": [
    "9. Explain the purpose and usage of the map() function in Python.\n",
    "    - map() function is used to apply a given function to every item in an iterable.\n",
    "    - It returns a map object, which is an iterator that produces the results one by one.\n",
    "    - It is useful for performing the same operation on all elements of a list without writing an explicit loop."
   ]
  },
  {
   "cell_type": "markdown",
   "id": "da84e855-b958-4dc0-abca-75da571d5ce0",
   "metadata": {},
   "source": [
    "10. What is the difference between map(), reduce(), and filter() functions in Python?\n",
    "    - map() is used to transform each item in a sequence\n",
    "    - filter() is used to select items based on a condition\n",
    "    - reduce() is used to combine all items into a single, cumulative value.\n",
    "    - They are all functional programming tools for working with iterables."
   ]
  },
  {
   "cell_type": "markdown",
   "id": "600e9804-b03a-41a7-ab97-b36aa2339bed",
   "metadata": {},
   "source": [
    "11. Using pen & Paper write the internal mechanism for sum operation using reduce function on this given list:[47,11,42,13];"
   ]
  },
  {
   "cell_type": "code",
   "execution_count": 13,
   "id": "8a825351-daf2-40ca-afcf-d96d251fd1c5",
   "metadata": {},
   "outputs": [
    {
     "name": "stdout",
     "output_type": "stream",
     "text": [
      "Starting with the initial list: [47, 11, 42, 13]\n",
      "Initial sum (accumulator) is set to: 0\n",
      "\n",
      "Step 1:\n",
      "  Current sum is: 0\n",
      "  Adding next item: 47\n",
      "  New sum is: 47\n",
      "\n",
      "Step 2:\n",
      "  Current sum is: 47\n",
      "  Adding next item: 11\n",
      "  New sum is: 58\n",
      "\n",
      "Step 3:\n",
      "  Current sum is: 58\n",
      "  Adding next item: 42\n",
      "  New sum is: 100\n",
      "\n",
      "Step 4:\n",
      "  Current sum is: 100\n",
      "  Adding next item: 13\n",
      "  New sum is: 113\n",
      "\n",
      "The final sum of the list is: 113\n"
     ]
    }
   ],
   "source": [
    "# The list of numbers to operate on.\n",
    "numbers = [47, 11, 42, 13]\n",
    "\n",
    "# The initial value for the sum.\n",
    "current_result = 0\n",
    "\n",
    "print(f\"Starting with the initial list: {numbers}\")\n",
    "print(f\"Initial sum (accumulator) is set to: {current_result}\\n\")\n",
    "\n",
    "# Iterate through the list to simulate the `reduce` process.\n",
    "# In a real reduce, the first element would be the initial value if one isn't provided,\n",
    "# but here we'll use a clear starting point.\n",
    "for i in range(len(numbers)):\n",
    "    next_item = numbers[i]\n",
    "    print(f\"Step {i + 1}:\")\n",
    "    print(f\"  Current sum is: {current_result}\")\n",
    "    print(f\"  Adding next item: {next_item}\")\n",
    "    current_result += next_item\n",
    "    print(f\"  New sum is: {current_result}\\n\")\n",
    "\n",
    "print(f\"The final sum of the list is: {current_result}\")\n"
   ]
  },
  {
   "cell_type": "code",
   "execution_count": 4,
   "id": "f50a19de-cf28-469b-8645-4ef64f9c5190",
   "metadata": {},
   "outputs": [
    {
     "name": "stdin",
     "output_type": "stream",
     "text": [
      "Enter a list of numbers:  1 2 3 4 5 8 4 5\n"
     ]
    },
    {
     "name": "stdout",
     "output_type": "stream",
     "text": [
      "The sum of even numbers is: 18\n"
     ]
    }
   ],
   "source": [
    "# 1. Write a Python function that takes a list of numbers as input and returns the sum of all even numbers in the list.\n",
    "\n",
    "def sum_even_numbers(numbers):\n",
    "    total = 0\n",
    "    for num in numbers:\n",
    "        if num % 2 == 0:\n",
    "            total += num\n",
    "    return total\n",
    "\n",
    "user_input = input(\"Enter a list of numbers: \")\n",
    "my_list = [int(num) for num in user_input.split()]\n",
    "\n",
    "print(f\"The sum of even numbers is: {sum_even_numbers(my_list)}\")"
   ]
  },
  {
   "cell_type": "code",
   "execution_count": 5,
   "id": "5f9bd08a-9088-4c48-a9dc-558012a20f66",
   "metadata": {},
   "outputs": [
    {
     "name": "stdin",
     "output_type": "stream",
     "text": [
      "Enter a string:  Hello Python\n"
     ]
    },
    {
     "name": "stdout",
     "output_type": "stream",
     "text": [
      "The reversed string is: nohtyP olleH\n"
     ]
    }
   ],
   "source": [
    "# 2. Create a Python function that accepts a string and returns the reverse of that string.\n",
    "\n",
    "def reverse_string(s):\n",
    "    return s[::-1]\n",
    "\n",
    "my_string = input(\"Enter a string: \")\n",
    "print(f\"The reversed string is: {reverse_string(my_string)}\")"
   ]
  },
  {
   "cell_type": "code",
   "execution_count": 7,
   "id": "0c026f26-1a92-4672-8335-7ec26339af1e",
   "metadata": {},
   "outputs": [
    {
     "name": "stdin",
     "output_type": "stream",
     "text": [
      "Enter a list of numbers:  1 2 4 3 5 6 8\n"
     ]
    },
    {
     "name": "stdout",
     "output_type": "stream",
     "text": [
      "The squares are: [1, 4, 16, 9, 25, 36, 64]\n"
     ]
    }
   ],
   "source": [
    "# 3. Implement a Python function that takes a list of integers and returns a new list containing the squares of each number.\n",
    "\n",
    "def square_numbers(numbers):\n",
    "    return [num ** 2 for num in numbers]\n",
    "\n",
    "user_input = input(\"Enter a list of numbers: \")\n",
    "my_list = [int(num) for num in user_input.split()]\n",
    "print(f\"The squares are: {square_numbers(my_list)}\")"
   ]
  },
  {
   "cell_type": "code",
   "execution_count": 12,
   "id": "d0eb9a90-579a-4d25-b054-9f779f43c2e1",
   "metadata": {},
   "outputs": [
    {
     "name": "stdin",
     "output_type": "stream",
     "text": [
      "Enter a number between 1 and 200:  3\n"
     ]
    },
    {
     "name": "stdout",
     "output_type": "stream",
     "text": [
      "The number 3 is a prime number.\n"
     ]
    }
   ],
   "source": [
    "# 4. Write a Python function that checks if a given number is prime or not from 1 to 200.\n",
    "\n",
    "def is_prime(num):\n",
    "    if num <= 1:\n",
    "        return False\n",
    "    for i in range(2, int(num**0.5) + 1):\n",
    "        if num % i == 0:\n",
    "            return False\n",
    "    return True\n",
    "\n",
    "try:\n",
    "    user_num = int(input(\"Enter a number between 1 and 200: \"))\n",
    "    if 1 <= user_num <= 200:\n",
    "        if is_prime(user_num):\n",
    "            print(f\"The number {user_num} is a prime number.\")\n",
    "        else:\n",
    "            print(f\"The number {user_num} is not a prime number.\")\n",
    "    else:\n",
    "        print(\"Invalid input. Please enter a number within the specified range (1 - 200).\")\n",
    "except ValueError:\n",
    "    print(\"Invalid input. Please enter a valid integer.\")"
   ]
  },
  {
   "cell_type": "code",
   "execution_count": 14,
   "id": "efba575c-c745-4a7f-95f9-25428052e936",
   "metadata": {},
   "outputs": [
    {
     "name": "stdin",
     "output_type": "stream",
     "text": [
      "Enter end term:  5\n"
     ]
    },
    {
     "name": "stdout",
     "output_type": "stream",
     "text": [
      "Fibonacci sequence up to 5 terms:\n",
      "0 1 1 2 3 \n"
     ]
    }
   ],
   "source": [
    "# 5. Create an iterator class in Python that generates the Fibonacci sequence up to a specified number of terms.\n",
    "\n",
    "class FibonacciIterator:\n",
    "    def __init__(self, max_terms):\n",
    "        self.max_terms = max_terms\n",
    "        self.current_term = 0\n",
    "        self.a, self.b = 0, 1\n",
    "\n",
    "    def __iter__(self):\n",
    "        return self\n",
    "\n",
    "    def __next__(self):\n",
    "        if self.current_term < self.max_terms:\n",
    "            result = self.a\n",
    "            self.a, self.b = self.b, self.a + self.b\n",
    "            self.current_term += 1\n",
    "            return result\n",
    "        else:\n",
    "            raise StopIteration\n",
    "\n",
    "user_num = int(input(\"Enter end term: \"))\n",
    "print(f\"Fibonacci sequence up to {user_num} terms:\")\n",
    "fib_iter = FibonacciIterator(user_num)\n",
    "for num in fib_iter:\n",
    "    print(num, end=\" \")\n",
    "print()"
   ]
  },
  {
   "cell_type": "code",
   "execution_count": 18,
   "id": "623685d0-5a0d-4d0e-a791-bb5821508dff",
   "metadata": {},
   "outputs": [
    {
     "name": "stdin",
     "output_type": "stream",
     "text": [
      "Enter a number:  5\n"
     ]
    },
    {
     "name": "stdout",
     "output_type": "stream",
     "text": [
      "Powers of 2 up to exponent 5:\n",
      "1 2 4 8 16 32 \n"
     ]
    }
   ],
   "source": [
    "# 6. Write a generator function in Python that yields the powers of 2 up to a given exponent.\n",
    "\n",
    "def powers_of_two(max_exponent):\n",
    "    for i in range(max_exponent + 1):\n",
    "        yield 2 ** i\n",
    "\n",
    "given_exponent = int(input(\"Enter a number: \"))\n",
    "print(f\"Powers of 2 up to exponent {given_exponent}:\")\n",
    "for power in powers_of_two(given_exponent):\n",
    "    print(power, end=\" \")\n",
    "print()"
   ]
  },
  {
   "cell_type": "code",
   "execution_count": 3,
   "id": "eecd28fa-8e97-4218-bcdd-fb42a3b8091f",
   "metadata": {},
   "outputs": [
    {
     "name": "stdout",
     "output_type": "stream",
     "text": [
      "Reading file line by line:\n",
      "Hello this is a test file.\n",
      "\n",
      "Created for Q7 for file line reading question.\n",
      "\n",
      "Lorem ipsum dolor sit amet, consectetur adipiscing elit.\n",
      "\n",
      "Cras eget quam sed lectus commodo cursus.\n",
      "\n",
      "Maecenas maximus mauris vel sapien posuere mattis.\n",
      "\n",
      "Nam sed lectus condimentum turpis porta sollicitudin.\n",
      "\n",
      "Aenean at urna eget nunc auctor accumsan.\n",
      "\n",
      "In laoreet ipsum quis interdum volutpat.\n",
      "\n"
     ]
    }
   ],
   "source": [
    "# 7. Implement a generator function that reads a file line by line and yields each line as a string.\n",
    "\n",
    "def read_file_line_by_line(filepath):\n",
    "    try:\n",
    "        with open(filepath, 'r') as file:\n",
    "            for line in file:\n",
    "                yield line.strip()\n",
    "    except FileNotFoundError:\n",
    "        print(f\"Error: The file '{filepath}' was not found.\")\n",
    "\n",
    "print(\"Reading file line by line:\")\n",
    "for line in read_file_line_by_line(\"example.txt\"):\n",
    "    print(line+\"\\n\")"
   ]
  },
  {
   "cell_type": "code",
   "execution_count": 4,
   "id": "b5376dfc-7529-4d50-9ef3-8a1ff644ac3b",
   "metadata": {},
   "outputs": [
    {
     "name": "stdout",
     "output_type": "stream",
     "text": [
      "Sorted list of tuples: [('banana', 1), ('mango', 2), ('apple', 3)]\n"
     ]
    }
   ],
   "source": [
    "# 8. Use a lambda function in Python to sort a list of tuples based on the second element of each tuple.\n",
    "\n",
    "my_list_of_tuples = [('apple', 3), ('banana', 1), ('mango', 2)]\n",
    "sorted_list = sorted(my_list_of_tuples, key=lambda x: x[1])\n",
    "print(f\"Sorted list of tuples: {sorted_list}\")"
   ]
  },
  {
   "cell_type": "code",
   "execution_count": 5,
   "id": "c263bd17-9659-4a0f-968c-f5b1862b8955",
   "metadata": {},
   "outputs": [
    {
     "name": "stdout",
     "output_type": "stream",
     "text": [
      "Celsius temperatures: [0, 10, 20, 30]\n",
      "Fahrenheit temperatures: [32.0, 50.0, 68.0, 86.0]\n"
     ]
    }
   ],
   "source": [
    "# 9. Write a Python program that uses map() to convert a list of temperatures from Celsius to Fahrenheit.\n",
    "\n",
    "celsius_temps = [0, 10, 20, 30]\n",
    "fahrenheit_temps = list(map(lambda c: (c * 9/5) + 32, celsius_temps))\n",
    "print(f\"Celsius temperatures: {celsius_temps}\")\n",
    "print(f\"Fahrenheit temperatures: {fahrenheit_temps}\")"
   ]
  },
  {
   "cell_type": "code",
   "execution_count": 7,
   "id": "2c5f6b49-f250-49ae-bb1b-2c53c55ff209",
   "metadata": {},
   "outputs": [
    {
     "name": "stdout",
     "output_type": "stream",
     "text": [
      "Original string: 'The quick brown fox jumped over the lazy dog'\n",
      "\n",
      "String without vowels: 'Th qck brwn fx jmpd vr th lzy dg'\n"
     ]
    }
   ],
   "source": [
    "# 10. Create a Python program that uses filter() to remove all the vowels from a given string.\n",
    "\n",
    "my_string_with_vowels = \"The quick brown fox jumped over the lazy dog\"\n",
    "vowels = \"aeiouAEIOU\"\n",
    "filtered_chars = filter(lambda char: char not in vowels, my_string_with_vowels)\n",
    "result_string = \"\".join(filtered_chars)\n",
    "print(f\"Original string: '{my_string_with_vowels}'\\n\")\n",
    "print(f\"String without vowels: '{result_string}'\")"
   ]
  },
  {
   "cell_type": "code",
   "execution_count": 10,
   "id": "0ccfb1f0-b307-4f85-8f0c-0c2047e42167",
   "metadata": {},
   "outputs": [
    {
     "name": "stdout",
     "output_type": "stream",
     "text": [
      "Final order values: [(34587, 163.8), (98762, 284.0), (77226, 108.85000000000001), (88112, 84.97)]\n"
     ]
    }
   ],
   "source": [
    "# 11. Imagine an accounting routine used in a book shop. It works on a list with sublists, which look like this: \n",
    "# <I am not able to copy image from pdf> Write a Python program, which returns a list with 2-tuples. \n",
    "# Each tuple consists of the order number and the product of the price per item and the quantity. \n",
    "# The product should be increased by 10,- € if the value of the order is smaller than 100,00 €. Write a Python program using lambda and map.\n",
    "\n",
    "def calculate_order_values(orders):\n",
    "    return list(map(lambda order: (int(order[0]), float(order[2]) * float(order[3]) + (10 if float(order[2]) * float(order[3]) < 100 else 0)), orders))\n",
    "\n",
    "orders_list = [\n",
    "    [\"Order Number\", \"Book Title and Author\", \"Quantity\", \"Price per Item\"],\n",
    "    [\"34587\", \"Learning Python, Mark Lutz\", \"4\", \"40.95\"],\n",
    "    [\"98762\", \"Programming Python, Mark Lutz\", \"5\", \"56.80\"],\n",
    "    [\"77226\", \"Head First Python, Paul Barry\", \"3\", \"32.95\"],\n",
    "    [\"88112\", \"Einführung in Python3, Bernd Klein\", \"3\", \"24.99\"]\n",
    "]\n",
    "\n",
    "orders_to_process = orders_list[1:]\n",
    "\n",
    "final_orders = calculate_order_values(orders_to_process)\n",
    "print(f\"Final order values: {final_orders}\")"
   ]
  },
  {
   "cell_type": "code",
   "execution_count": null,
   "id": "7b15d069-f87b-4430-8339-f641990d88e7",
   "metadata": {},
   "outputs": [],
   "source": []
  }
 ],
 "metadata": {
  "kernelspec": {
   "display_name": "Python 3 (ipykernel)",
   "language": "python",
   "name": "python3"
  },
  "language_info": {
   "codemirror_mode": {
    "name": "ipython",
    "version": 3
   },
   "file_extension": ".py",
   "mimetype": "text/x-python",
   "name": "python",
   "nbconvert_exporter": "python",
   "pygments_lexer": "ipython3",
   "version": "3.13.0"
  },
  "panel-cell-order": [
   "35b9c2c9-5bfa-4e07-a4f4-a703d2b6251c"
  ]
 },
 "nbformat": 4,
 "nbformat_minor": 5
}
